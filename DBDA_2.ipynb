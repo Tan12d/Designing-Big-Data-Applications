{
  "nbformat": 4,
  "nbformat_minor": 0,
  "metadata": {
    "colab": {
      "provenance": []
    },
    "kernelspec": {
      "name": "python3",
      "display_name": "Python 3"
    },
    "language_info": {
      "name": "python"
    }
  },
  "cells": [
    {
      "cell_type": "code",
      "execution_count": null,
      "metadata": {
        "id": "BuH_MJHYXirf"
      },
      "outputs": [],
      "source": [
        "from sklearn.datasets import load_iris\n",
        "import pandas as pd"
      ]
    },
    {
      "cell_type": "code",
      "source": [
        "# Load the Iris dataset\n",
        "\n",
        "iris = load_iris()"
      ],
      "metadata": {
        "id": "8ahnG8h3Xpxh"
      },
      "execution_count": null,
      "outputs": []
    },
    {
      "cell_type": "code",
      "source": [
        "# Create a DataFrame to better visualize the dataset\n",
        "\n",
        "iris_df = pd.DataFrame(data=iris.data, columns=iris.feature_names)"
      ],
      "metadata": {
        "id": "EqTtyuOvXp0A"
      },
      "execution_count": null,
      "outputs": []
    },
    {
      "cell_type": "code",
      "source": [
        "# Display basic information about the dataset\n",
        "\n",
        "print(\"Number of Features:\", iris_df.shape[1])\n",
        "print(\"Number of Samples:\", iris_df.shape[0])\n",
        "print(\"\\nAttribute Names (Features):\")\n",
        "print(iris_df.columns.tolist())\n",
        "print(\"\\nClasses (Target Names):\")\n",
        "print(iris.target_names)"
      ],
      "metadata": {
        "colab": {
          "base_uri": "https://localhost:8080/"
        },
        "id": "WsA5p3S-Xp2z",
        "outputId": "08730548-0dbf-4d53-f38c-79e529b624db"
      },
      "execution_count": null,
      "outputs": [
        {
          "output_type": "stream",
          "name": "stdout",
          "text": [
            "Number of Features: 4\n",
            "Number of Samples: 150\n",
            "\n",
            "Attribute Names (Features):\n",
            "['sepal length (cm)', 'sepal width (cm)', 'petal length (cm)', 'petal width (cm)']\n",
            "\n",
            "Classes (Target Names):\n",
            "['setosa' 'versicolor' 'virginica']\n"
          ]
        }
      ]
    },
    {
      "cell_type": "code",
      "source": [],
      "metadata": {
        "id": "Lm8-86ydXp6a"
      },
      "execution_count": null,
      "outputs": []
    },
    {
      "cell_type": "code",
      "source": [],
      "metadata": {
        "id": "10eibqmqYBJo"
      },
      "execution_count": null,
      "outputs": []
    },
    {
      "cell_type": "code",
      "source": [
        "# print(iris_df)"
      ],
      "metadata": {
        "id": "8EgubL2lYBNB"
      },
      "execution_count": null,
      "outputs": []
    },
    {
      "cell_type": "markdown",
      "source": [],
      "metadata": {
        "id": "zGsaWODKY90U"
      }
    },
    {
      "cell_type": "code",
      "source": [
        "import numpy as np\n",
        "import pandas as pd\n",
        "import matplotlib.pyplot as plt\n",
        "from scipy.stats import pearsonr, ttest_ind\n",
        "from sklearn.preprocessing import MinMaxScaler\n",
        "from sklearn.tree import DecisionTreeClassifier\n",
        "from sklearn.svm import SVC\n",
        "from sklearn.cluster import KMeans\n",
        "from sklearn.decomposition import PCA\n",
        "from sklearn.linear_model import LogisticRegression\n",
        "from sklearn.neighbors import KNeighborsClassifier\n",
        "from sklearn.model_selection import train_test_split\n",
        "from sklearn.metrics import accuracy_score, precision_score, recall_score\n",
        "from sklearn.datasets import load_iris"
      ],
      "metadata": {
        "id": "kvqDmSlwY8V3"
      },
      "execution_count": null,
      "outputs": []
    },
    {
      "cell_type": "code",
      "source": [
        "# Load Iris dataset\n",
        "\n",
        "iris = load_iris()\n",
        "iris_data = pd.DataFrame(data=np.c_[iris['data'], iris['target']], columns=iris['feature_names'] + ['species'])"
      ],
      "metadata": {
        "id": "EznMFhQ3Y8Yh"
      },
      "execution_count": null,
      "outputs": []
    },
    {
      "cell_type": "code",
      "source": [
        "# Question 1: Descriptive Statistics\n",
        "\n",
        "mean_sepal_length = iris_data['sepal length (cm)'].mean()\n",
        "median_sepal_length = iris_data['sepal length (cm)'].median()\n",
        "std_sepal_length = iris_data['sepal length (cm)'].std()\n",
        "\n",
        "print(f'Mean = {mean_sepal_length}')\n",
        "print(f'Median = {median_sepal_length}')\n",
        "print(f'Std = {std_sepal_length}')"
      ],
      "metadata": {
        "colab": {
          "base_uri": "https://localhost:8080/"
        },
        "id": "ICC8iIumY8bM",
        "outputId": "ea03f054-8c89-489d-8c07-994ebb5ff428"
      },
      "execution_count": null,
      "outputs": [
        {
          "output_type": "stream",
          "name": "stdout",
          "text": [
            "Mean = 5.843333333333334\n",
            "Median = 5.8\n",
            "Std = 0.828066127977863\n"
          ]
        }
      ]
    },
    {
      "cell_type": "code",
      "source": [
        " # Question 2: Data Visualization\n",
        "\n",
        "plt.figure(figsize=(10, 6))\n",
        "\n",
        "for species in iris_data['species'].unique():\n",
        "  species_data = iris_data[iris_data['species'] == species]\n",
        "  plt.boxplot(species_data['petal width (cm)'], positions=[species], labels=[f'Species {int(species)}'])\n",
        "\n",
        "plt.title('Box Plot- Petal Width Distribution for Each Species')\n",
        "plt.xlabel('Species')\n",
        "plt.ylabel('Petal Width (cm)')\n",
        "plt.show()"
      ],
      "metadata": {
        "colab": {
          "base_uri": "https://localhost:8080/",
          "height": 584
        },
        "id": "RI8IBuSWY8dq",
        "outputId": "0e980d78-ff61-405c-cd6a-c63fb9ee7a8d"
      },
      "execution_count": null,
      "outputs": [
        {
          "output_type": "display_data",
          "data": {
            "text/plain": [
              "<Figure size 1000x600 with 1 Axes>"
            ],
            "image/png": "[encoded data removed]"
          },
          "metadata": {}
        }
      ]
    },
    {
      "cell_type": "code",
      "source": [
        "# Question 3: Correlation Analysis\n",
        "\n",
        "pearson_corr, _ = pearsonr(iris_data['sepal length (cm)'], iris_data['petal length (cm)'])\n",
        "\n",
        "print(pearson_corr)\n",
        "print(_)"
      ],
      "metadata": {
        "colab": {
          "base_uri": "https://localhost:8080/"
        },
        "id": "nX17w2OSa3r7",
        "outputId": "42ec38a3-e386-4097-c136-342b120ab9de"
      },
      "execution_count": null,
      "outputs": [
        {
          "output_type": "stream",
          "name": "stdout",
          "text": [
            "0.8717537758865831\n",
            "1.0386674194498827e-47\n"
          ]
        }
      ]
    },
    {
      "cell_type": "code",
      "source": [
        "# Question 4: Data Preprocessing\n",
        "\n",
        "scaler = MinMaxScaler()\n",
        "\n",
        "iris_data['sepal width (normalized)'] = scaler.fit_transform(iris_data[['sepal width (cm)']])\n",
        "\n",
        "print(iris_data)"
      ],
      "metadata": {
        "colab": {
          "base_uri": "https://localhost:8080/"
        },
        "id": "9ghuwnita3uN",
        "outputId": "6bb5030e-1a01-4419-de36-a356524767b7"
      },
      "execution_count": null,
      "outputs": [
        {
          "output_type": "stream",
          "name": "stdout",
          "text": [
            "     sepal length (cm)  sepal width (cm)  petal length (cm)  petal width (cm)  \\\n",
            "0                  5.1               3.5                1.4               0.2   \n",
            "1                  4.9               3.0                1.4               0.2   \n",
            "2                  4.7               3.2                1.3               0.2   \n",
            "3                  4.6               3.1                1.5               0.2   \n",
            "4                  5.0               3.6                1.4               0.2   \n",
            "..                 ...               ...                ...               ...   \n",
            "145                6.7               3.0                5.2               2.3   \n",
            "146                6.3               2.5                5.0               1.9   \n",
            "147                6.5               3.0                5.2               2.0   \n",
            "148                6.2               3.4                5.4               2.3   \n",
            "149                5.9               3.0                5.1               1.8   \n",
            "\n",
            "     species  sepal width (normalized)  \n",
            "0        0.0                  0.625000  \n",
            "1        0.0                  0.416667  \n",
            "2        0.0                  0.500000  \n",
            "3        0.0                  0.458333  \n",
            "4        0.0                  0.666667  \n",
            "..       ...                       ...  \n",
            "145      2.0                  0.416667  \n",
            "146      2.0                  0.208333  \n",
            "147      2.0                  0.416667  \n",
            "148      2.0                  0.583333  \n",
            "149      2.0                  0.416667  \n",
            "\n",
            "[150 rows x 6 columns]\n"
          ]
        }
      ]
    },
    {
      "cell_type": "code",
      "source": [
        "# Question 5: Hypothesis Testing\n",
        "\n",
        "setosa_sepal_length = iris_data[iris_data['species'] == 0]['sepal length (cm)']\n",
        "versicolor_sepal_length = iris_data[iris_data['species'] == 1]['sepal length (cm)']\n",
        "\n",
        "t_stat, p_value =  ttest_ind(setosa_sepal_length, versicolor_sepal_length)\n",
        "\n",
        "print(setosa_sepal_length)\n",
        "print(versicolor_sepal_length)\n",
        "\n",
        "print(t_stat)\n",
        "print(p_value)"
      ],
      "metadata": {
        "colab": {
          "base_uri": "https://localhost:8080/"
        },
        "id": "cm-eoeDza3wQ",
        "outputId": "b13975e8-3f5e-4fa2-8557-b314919880e7"
      },
      "execution_count": null,
      "outputs": [
        {
          "output_type": "stream",
          "name": "stdout",
          "text": [
            "0     5.1\n",
            "1     4.9\n",
            "2     4.7\n",
            "3     4.6\n",
            "4     5.0\n",
            "5     5.4\n",
            "6     4.6\n",
            "7     5.0\n",
            "8     4.4\n",
            "9     4.9\n",
            "10    5.4\n",
            "11    4.8\n",
            "12    4.8\n",
            "13    4.3\n",
            "14    5.8\n",
            "15    5.7\n",
            "16    5.4\n",
            "17    5.1\n",
            "18    5.7\n",
            "19    5.1\n",
            "20    5.4\n",
            "21    5.1\n",
            "22    4.6\n",
            "23    5.1\n",
            "24    4.8\n",
            "25    5.0\n",
            "26    5.0\n",
            "27    5.2\n",
            "28    5.2\n",
            "29    4.7\n",
            "30    4.8\n",
            "31    5.4\n",
            "32    5.2\n",
            "33    5.5\n",
            "34    4.9\n",
            "35    5.0\n",
            "36    5.5\n",
            "37    4.9\n",
            "38    4.4\n",
            "39    5.1\n",
            "40    5.0\n",
            "41    4.5\n",
            "42    4.4\n",
            "43    5.0\n",
            "44    5.1\n",
            "45    4.8\n",
            "46    5.1\n",
            "47    4.6\n",
            "48    5.3\n",
            "49    5.0\n",
            "Name: sepal length (cm), dtype: float64\n",
            "50    7.0\n",
            "51    6.4\n",
            "52    6.9\n",
            "53    5.5\n",
            "54    6.5\n",
            "55    5.7\n",
            "56    6.3\n",
            "57    4.9\n",
            "58    6.6\n",
            "59    5.2\n",
            "60    5.0\n",
            "61    5.9\n",
            "62    6.0\n",
            "63    6.1\n",
            "64    5.6\n",
            "65    6.7\n",
            "66    5.6\n",
            "67    5.8\n",
            "68    6.2\n",
            "69    5.6\n",
            "70    5.9\n",
            "71    6.1\n",
            "72    6.3\n",
            "73    6.1\n",
            "74    6.4\n",
            "75    6.6\n",
            "76    6.8\n",
            "77    6.7\n",
            "78    6.0\n",
            "79    5.7\n",
            "80    5.5\n",
            "81    5.5\n",
            "82    5.8\n",
            "83    6.0\n",
            "84    5.4\n",
            "85    6.0\n",
            "86    6.7\n",
            "87    6.3\n",
            "88    5.6\n",
            "89    5.5\n",
            "90    5.5\n",
            "91    6.1\n",
            "92    5.8\n",
            "93    5.0\n",
            "94    5.6\n",
            "95    5.7\n",
            "96    5.7\n",
            "97    6.2\n",
            "98    5.1\n",
            "99    5.7\n",
            "Name: sepal length (cm), dtype: float64\n",
            "-10.52098626754911\n",
            "8.985235037487079e-18\n"
          ]
        }
      ]
    },
    {
      "cell_type": "code",
      "source": [
        "# Question 6: Decision Trees\n",
        "\n",
        "X_train, X_test, y_train, y_test = train_test_split(iris_data.drop('species', axis=1), iris_data['species'], test_size=0.2, random_state=42)\n",
        "dt_classifier = DecisionTreeClassifier(criterion='gini')\n",
        "dt_classifier.fit(X_train, y_train)\n",
        "dt_accuracy = accuracy_score(y_test, dt_classifier.predict(X_test))\n",
        "\n",
        "print(X_train)\n",
        "print(X_test)\n",
        "print(y_train)\n",
        "print(y_test)\n",
        "\n",
        "print(dt_classifier)\n",
        "\n",
        "print(dt_accuracy)"
      ],
      "metadata": {
        "colab": {
          "base_uri": "https://localhost:8080/"
        },
        "id": "KWfh4ZMZa3yq",
        "outputId": "70a7d230-dd6b-4720-9f16-8bed669898ba"
      },
      "execution_count": null,
      "outputs": [
        {
          "output_type": "stream",
          "name": "stdout",
          "text": [
            "     sepal length (cm)  sepal width (cm)  petal length (cm)  petal width (cm)  \\\n",
            "22                 4.6               3.6                1.0               0.2   \n",
            "15                 5.7               4.4                1.5               0.4   \n",
            "65                 6.7               3.1                4.4               1.4   \n",
            "11                 4.8               3.4                1.6               0.2   \n",
            "42                 4.4               3.2                1.3               0.2   \n",
            "..                 ...               ...                ...               ...   \n",
            "71                 6.1               2.8                4.0               1.3   \n",
            "106                4.9               2.5                4.5               1.7   \n",
            "14                 5.8               4.0                1.2               0.2   \n",
            "92                 5.8               2.6                4.0               1.2   \n",
            "102                7.1               3.0                5.9               2.1   \n",
            "\n",
            "     sepal width (normalized)  \n",
            "22                   0.666667  \n",
            "15                   1.000000  \n",
            "65                   0.458333  \n",
            "11                   0.583333  \n",
            "42                   0.500000  \n",
            "..                        ...  \n",
            "71                   0.333333  \n",
            "106                  0.208333  \n",
            "14                   0.833333  \n",
            "92                   0.250000  \n",
            "102                  0.416667  \n",
            "\n",
            "[120 rows x 5 columns]\n",
            "     sepal length (cm)  sepal width (cm)  petal length (cm)  petal width (cm)  \\\n",
            "73                 6.1               2.8                4.7               1.2   \n",
            "18                 5.7               3.8                1.7               0.3   \n",
            "118                7.7               2.6                6.9               2.3   \n",
            "78                 6.0               2.9                4.5               1.5   \n",
            "76                 6.8               2.8                4.8               1.4   \n",
            "31                 5.4               3.4                1.5               0.4   \n",
            "64                 5.6               2.9                3.6               1.3   \n",
            "141                6.9               3.1                5.1               2.3   \n",
            "68                 6.2               2.2                4.5               1.5   \n",
            "82                 5.8               2.7                3.9               1.2   \n",
            "110                6.5               3.2                5.1               2.0   \n",
            "12                 4.8               3.0                1.4               0.1   \n",
            "36                 5.5               3.5                1.3               0.2   \n",
            "9                  4.9               3.1                1.5               0.1   \n",
            "19                 5.1               3.8                1.5               0.3   \n",
            "56                 6.3               3.3                4.7               1.6   \n",
            "104                6.5               3.0                5.8               2.2   \n",
            "69                 5.6               2.5                3.9               1.1   \n",
            "55                 5.7               2.8                4.5               1.3   \n",
            "132                6.4               2.8                5.6               2.2   \n",
            "29                 4.7               3.2                1.6               0.2   \n",
            "127                6.1               3.0                4.9               1.8   \n",
            "26                 5.0               3.4                1.6               0.4   \n",
            "128                6.4               2.8                5.6               2.1   \n",
            "131                7.9               3.8                6.4               2.0   \n",
            "145                6.7               3.0                5.2               2.3   \n",
            "108                6.7               2.5                5.8               1.8   \n",
            "143                6.8               3.2                5.9               2.3   \n",
            "45                 4.8               3.0                1.4               0.3   \n",
            "30                 4.8               3.1                1.6               0.2   \n",
            "\n",
            "     sepal width (normalized)  \n",
            "73                   0.333333  \n",
            "18                   0.750000  \n",
            "118                  0.250000  \n",
            "78                   0.375000  \n",
            "76                   0.333333  \n",
            "31                   0.583333  \n",
            "64                   0.375000  \n",
            "141                  0.458333  \n",
            "68                   0.083333  \n",
            "82                   0.291667  \n",
            "110                  0.500000  \n",
            "12                   0.416667  \n",
            "36                   0.625000  \n",
            "9                    0.458333  \n",
            "19                   0.750000  \n",
            "56                   0.541667  \n",
            "104                  0.416667  \n",
            "69                   0.208333  \n",
            "55                   0.333333  \n",
            "132                  0.333333  \n",
            "29                   0.500000  \n",
            "127                  0.416667  \n",
            "26                   0.583333  \n",
            "128                  0.333333  \n",
            "131                  0.750000  \n",
            "145                  0.416667  \n",
            "108                  0.208333  \n",
            "143                  0.500000  \n",
            "45                   0.416667  \n",
            "30                   0.458333  \n",
            "22     0.0\n",
            "15     0.0\n",
            "65     1.0\n",
            "11     0.0\n",
            "42     0.0\n",
            "      ... \n",
            "71     1.0\n",
            "106    2.0\n",
            "14     0.0\n",
            "92     1.0\n",
            "102    2.0\n",
            "Name: species, Length: 120, dtype: float64\n",
            "73     1.0\n",
            "18     0.0\n",
            "118    2.0\n",
            "78     1.0\n",
            "76     1.0\n",
            "31     0.0\n",
            "64     1.0\n",
            "141    2.0\n",
            "68     1.0\n",
            "82     1.0\n",
            "110    2.0\n",
            "12     0.0\n",
            "36     0.0\n",
            "9      0.0\n",
            "19     0.0\n",
            "56     1.0\n",
            "104    2.0\n",
            "69     1.0\n",
            "55     1.0\n",
            "132    2.0\n",
            "29     0.0\n",
            "127    2.0\n",
            "26     0.0\n",
            "128    2.0\n",
            "131    2.0\n",
            "145    2.0\n",
            "108    2.0\n",
            "143    2.0\n",
            "45     0.0\n",
            "30     0.0\n",
            "Name: species, dtype: float64\n",
            "DecisionTreeClassifier()\n",
            "1.0\n"
          ]
        }
      ]
    },
    {
      "cell_type": "code",
      "source": [
        "# Question 7: Support Vector Machines (SVM)\n",
        "\n",
        "svm_classifier = SVC(kernel='rbf')\n",
        "svm_classifier.fit(X_train, y_train)\n",
        "svm_accuracy = accuracy_score(y_test, svm_classifier.predict(X_test))\n",
        "\n",
        "print(svm_classifier)\n",
        "print(svm_accuracy)"
      ],
      "metadata": {
        "colab": {
          "base_uri": "https://localhost:8080/"
        },
        "id": "PZeVwyi4a30q",
        "outputId": "055aebe1-dbd8-4065-b5df-03479dcc4e1d"
      },
      "execution_count": null,
      "outputs": [
        {
          "output_type": "stream",
          "name": "stdout",
          "text": [
            "SVC()\n",
            "1.0\n"
          ]
        }
      ]
    },
    {
      "cell_type": "code",
      "source": [
        "# Question 8: K-Means Clustering\n",
        "\n",
        "kmeans = KMeans(n_clusters=3)\n",
        "iris_data['cluster'] = kmeans.fit_predict(iris_data[['sepal length (cm)', 'sepal width (cm)']])\n",
        "plt.scatter(iris_data['sepal length (cm)'], iris_data['sepal width (cm)'], c=iris_data['cluster'], cmap='viridis')\n",
        "plt.title('K-Means Clustering- Sepal Length vs Sepal Width')\n",
        "plt.xlabel('Sepal Length (cm)')\n",
        "plt.ylabel('Sepal Width (cm)')\n",
        "plt.show()"
      ],
      "metadata": {
        "colab": {
          "base_uri": "https://localhost:8080/",
          "height": 527
        },
        "id": "BPBY_AcHa33C",
        "outputId": "8e136a72-207b-4b4a-edcd-af5e36aa91a3"
      },
      "execution_count": null,
      "outputs": [
        {
          "output_type": "stream",
          "name": "stderr",
          "text": [
            "/usr/local/lib/python3.10/dist-packages/sklearn/cluster/_kmeans.py:870: FutureWarning: The default value of `n_init` will change from 10 to 'auto' in 1.4. Set the value of `n_init` explicitly to suppress the warning\n",
            "  warnings.warn(\n"
          ]
        },
        {
          "output_type": "display_data",
          "data": {
            "text/plain": [
              "<Figure size 640x480 with 1 Axes>"
            ],
            "image/png": "[encoded data removed]"
          },
          "metadata": {}
        }
      ]
    },
    {
      "cell_type": "code",
      "source": [
        "# Question 9: Principal Component Analysis (PCA)\n",
        "\n",
        "pca = PCA()\n",
        "iris_pca = pca.fit_transform(iris_data.drop(['species', 'cluster'], axis=1))\n",
        "explained_variance_ratio = pca.explained_variance_ratio_\n",
        "eigen_vectors = pca.components_\n",
        "\n",
        "print(iris_pca)\n",
        "print(explained_variance_ratio)\n",
        "print(eigen_vectors)"
      ],
      "metadata": {
        "colab": {
          "base_uri": "https://localhost:8080/"
        },
        "id": "UfCpQqXYa34W",
        "outputId": "ca577448-2996-409a-9890-f4a0691b1295"
      },
      "execution_count": null,
      "outputs": [
        {
          "output_type": "stream",
          "name": "stdout",
          "text": [
            "[[-2.68918027e+00  3.28732847e-01 -3.97882672e-02 -3.18512201e-03\n",
            "   2.16742788e-16]\n",
            " [-2.71143577e+00 -2.13281552e-01 -2.14186448e-01 -9.65293054e-02\n",
            "   6.10477199e-16]\n",
            " [-2.88918918e+00 -1.52442775e-01  2.19658211e-02 -1.98552042e-02\n",
            "   8.68902877e-17]\n",
            " [-2.74404624e+00 -3.27826326e-01  4.56073103e-02  7.68470658e-02\n",
            "   4.30068463e-17]\n",
            " [-2.73524596e+00  3.51574357e-01  8.34510408e-02  5.93000933e-02\n",
            "   2.00207083e-16]\n",
            " [-2.29238438e+00  7.91630945e-01  1.48739624e-01  1.94727310e-02\n",
            "   8.97852915e-17]\n",
            " [-2.82381079e+00 -6.62040072e-02  2.68851721e-01  4.55690908e-02\n",
            "   1.31063056e-16]\n",
            " [-2.62965938e+00  1.68505052e-01 -2.64731252e-02  4.52208186e-02\n",
            "   1.41057141e-16]\n",
            " [-2.88187058e+00 -6.02814646e-01  4.12585525e-02  2.87699590e-02\n",
            "   1.78784465e-16]\n",
            " [-2.67160029e+00 -1.39076774e-01 -1.96929832e-01  5.94998775e-02\n",
            "   4.93724597e-17]\n",
            " [-2.51527252e+00  6.64836430e-01 -9.85535607e-02  1.35945715e-02\n",
            "   6.14634980e-17]\n",
            " [-2.61620417e+00  3.11187680e-02  1.10081325e-01  1.56111975e-01\n",
            "   1.27860717e-16]\n",
            " [-2.78332348e+00 -2.68993056e-01 -2.04267385e-01  1.13131595e-02\n",
            "   2.23067873e-16]\n",
            " [-3.22060669e+00 -5.29102105e-01  8.03238304e-02  2.29112377e-02\n",
            "   2.11257316e-16]\n",
            " [-2.65775178e+00  1.20663508e+00 -2.01613038e-01 -1.62920664e-01\n",
            "   1.34876063e-16]\n",
            " [-2.40528955e+00  1.42507212e+00  2.39371058e-01 -1.50731576e-02\n",
            "   5.00602745e-17]\n",
            " [-2.63487255e+00  8.52253971e-01  1.07434235e-01 -1.73712586e-01\n",
            "   9.36745019e-17]\n",
            " [-2.65337598e+00  3.23329086e-01  1.34067211e-02 -7.97301736e-02\n",
            "   1.59532155e-16]\n",
            " [-2.20995615e+00  8.96423723e-01 -1.53922775e-01 -2.90622592e-02\n",
            "   4.71810407e-17]\n",
            " [-2.59770074e+00  5.60043653e-01  2.04108838e-01  6.21295617e-02\n",
            "   7.65046103e-17]\n",
            " [-2.31408163e+00  3.82654594e-01 -2.58276636e-01  1.66238243e-02\n",
            "   1.37940247e-16]\n",
            " [-2.55191418e+00  4.70683118e-01  1.97178570e-01 -4.56032919e-02\n",
            "   3.97566415e-17]\n",
            " [-3.22206780e+00  1.67736328e-01  2.94601857e-01 -8.69557110e-03\n",
            "   2.05268582e-16]\n",
            " [-2.30493672e+00  9.91407467e-02  3.05252263e-02 -1.50306893e-01\n",
            "   1.07031559e-16]\n",
            " [-2.35933804e+00 -1.43485016e-02  1.41060367e-01  3.01000963e-01\n",
            "   1.24943810e-16]\n",
            " [-2.50410826e+00 -1.82477802e-01 -2.56647804e-01 -3.12340600e-02\n",
            "   2.20363073e-16]\n",
            " [-2.47242874e+00  1.42541774e-01  9.02431987e-02 -5.95729552e-02\n",
            "   1.41428017e-16]\n",
            " [-2.56747482e+00  3.74692354e-01 -9.25759712e-02  1.38137941e-02\n",
            "   1.81524442e-16]\n",
            " [-2.64311459e+00  3.05891336e-01 -1.63027575e-01 -6.56703373e-02\n",
            "   1.26941754e-16]\n",
            " [-2.63232305e+00 -1.97910044e-01  5.29448629e-02  1.25033784e-01\n",
            "   8.39733799e-17]\n",
            " [-2.58625737e+00 -2.20751555e-01 -7.02944451e-02  6.25485686e-02\n",
            "   4.82763523e-17]\n",
            " [-2.41371712e+00  4.02158586e-01 -1.72539354e-01 -2.33058938e-01\n",
            "   1.41228031e-16]\n",
            " [-2.66317272e+00  8.83836761e-01  2.14980580e-01  2.77485658e-01\n",
            "   1.41462465e-16]\n",
            " [-2.61472249e+00  1.16089132e+00  1.28632324e-01  8.99398388e-02\n",
            "   2.17608845e-16]\n",
            " [-2.63579599e+00 -1.44480535e-01 -1.43734844e-01 -1.70451741e-02\n",
            "   5.00440487e-17]\n",
            " [-2.86656097e+00  4.60587732e-02 -1.77702680e-01 -1.62043773e-01\n",
            "   9.34785037e-17]\n",
            " [-2.63046865e+00  5.88349659e-01 -3.02570820e-01 -1.76671104e-01\n",
            "   2.13284203e-16]\n",
            " [-2.80713367e+00  2.95862854e-01  9.33701039e-02  1.67142558e-01\n",
            "   1.98137286e-16]\n",
            " [-2.97747489e+00 -5.03702115e-01  9.10574619e-02  1.16614316e-02\n",
            "   2.07999947e-16]\n",
            " [-2.59357596e+00  2.29620316e-01 -8.95871765e-02  1.39234054e-02\n",
            "   1.27953803e-16]\n",
            " [-2.77508144e+00  2.77369579e-01  6.61944252e-02 -9.67290897e-02\n",
            "   1.59106249e-16]\n",
            " [-2.83571130e+00 -1.03568803e+00 -3.39738398e-01 -3.14495647e-01\n",
            "   6.99050215e-17]\n",
            " [-2.99743943e+00 -3.35788566e-01  2.11307975e-01  7.40370356e-02\n",
            "   8.22779887e-17]\n",
            " [-2.41080242e+00  2.15691027e-01  2.56758432e-01 -1.81475256e-01\n",
            "   1.58204109e-16]\n",
            " [-2.21940827e+00  4.94016866e-01  2.98609216e-01  1.78769828e-01\n",
            "   7.32869889e-17]\n",
            " [-2.71171489e+00 -2.79800577e-01 -9.78774080e-02 -1.41776944e-01\n",
            "   2.24411051e-16]\n",
            " [-2.54788299e+00  5.50291657e-01  1.61240197e-01  1.86970943e-01\n",
            "   7.48607187e-17]\n",
            " [-2.83965055e+00 -2.28713795e-01  9.54062197e-02  5.97385384e-02\n",
            "   8.44883611e-17]\n",
            " [-2.55135594e+00  6.03721167e-01 -3.54395093e-02  4.48919848e-02\n",
            "   8.82422716e-18]\n",
            " [-2.70529915e+00  9.97040344e-02 -9.69247291e-02 -3.42633127e-02\n",
            "   1.06535491e-16]\n",
            " [ 1.28153041e+00  6.73067443e-01 -4.40221693e-01 -1.61611303e-02\n",
            "   1.04484529e-16]\n",
            " [ 9.29590125e-01  3.31283613e-01 -2.89950915e-02 -1.51436096e-03\n",
            "   9.26663305e-17]\n",
            " [ 1.46247765e+00  4.92280132e-01 -3.63385216e-01  3.99608813e-03\n",
            "   6.63193527e-17]\n",
            " [ 1.94960983e-01 -8.87778426e-01 -1.60117652e-01 -8.89194030e-02\n",
            "   1.08826764e-16]\n",
            " [ 1.09122466e+00  4.14160229e-02 -3.22283822e-01 -1.09266653e-01\n",
            "   1.41579131e-16]\n",
            " [ 6.45326687e-01 -4.21542810e-01  6.59122648e-02  2.45906427e-01\n",
            "   1.40170272e-16]\n",
            " [ 1.09057282e+00  3.18409850e-01  1.68091899e-01  8.10184614e-02\n",
            "   9.06751473e-17]\n",
            " [-7.38288975e-01 -1.04821166e+00  4.68225170e-02  2.16137278e-02\n",
            "   1.54738713e-16]\n",
            " [ 1.04571721e+00  1.97295582e-01 -4.31662593e-01  4.37138391e-02\n",
            "   1.84378886e-16]\n",
            " [-3.03608686e-03 -7.25545125e-01  3.12594170e-01  4.88266379e-03\n",
            "   1.49152277e-16]\n",
            " [-4.91032399e-01 -1.35323500e+00 -2.36139866e-01 -3.78422347e-02\n",
            "   1.20023799e-16]\n",
            " [ 5.12271450e-01 -9.67389853e-02  1.35345610e-01 -5.22918867e-02\n",
            "   2.18880325e-16]\n",
            " [ 2.77947445e-01 -6.49947600e-01 -6.95398130e-01 -4.69591166e-02\n",
            "   4.06152669e-17]\n",
            " [ 9.86726468e-01 -1.28840254e-01 -5.25710011e-02  1.71952183e-01\n",
            "   1.77447120e-16]\n",
            " [-1.71337381e-01 -2.62299491e-01  9.62144474e-02 -1.26275322e-01\n",
            "   1.80839808e-16]\n",
            " [ 9.26396305e-01  4.51232147e-01 -3.41983838e-01 -9.83456806e-02\n",
            "   7.19410612e-17]\n",
            " [ 6.60887327e-01 -3.25552046e-01  3.55666806e-01  1.86489341e-01\n",
            "   2.12551601e-16]\n",
            " [ 2.41491312e-01 -3.67550012e-01 -2.58217397e-01  2.19871049e-01\n",
            "   1.46145443e-16]\n",
            " [ 9.57245975e-01 -6.30514658e-01 -5.04019555e-01 -2.50797554e-01\n",
            "   9.31491780e-17]\n",
            " [ 5.38492269e-02 -6.32786336e-01 -2.19697514e-01  4.69525615e-02\n",
            "   9.28614226e-17]\n",
            " [ 1.11345206e+00 -3.59712578e-02  4.77139172e-01  7.02265387e-02\n",
            "   8.42874974e-17]\n",
            " [ 3.61550142e-01 -1.01302972e-01 -2.38175677e-01 -1.20764873e-01\n",
            "   1.61743603e-16]\n",
            " [ 1.30587076e+00 -3.78152097e-01 -3.45452448e-01  4.65375584e-03\n",
            "   5.64614359e-17]\n",
            " [ 9.25100143e-01 -2.01989507e-01 -2.19086234e-01  2.93854484e-01\n",
            "   1.54265896e-16]\n",
            " [ 7.16684252e-01  1.20532324e-01 -3.36413533e-01 -3.85803225e-02\n",
            "   1.90904511e-16]\n",
            " [ 9.00295156e-01  3.06160109e-01 -3.38995043e-01 -9.82360693e-02\n",
            "   2.28410639e-16]\n",
            " [ 1.33491470e+00  1.99854062e-01 -5.44168270e-01 -3.00211823e-02\n",
            "   1.54276546e-16]\n",
            " [ 1.55752372e+00  2.60129552e-01 -1.80566046e-01 -6.93906611e-02\n",
            "   2.26927561e-16]\n",
            " [ 8.15203263e-01 -1.65047765e-01  4.30853440e-02  3.01118862e-02\n",
            "   1.78665107e-16]\n",
            " [-2.98342091e-01 -4.21687511e-01 -3.17186686e-01 -6.97973157e-02\n",
            "   1.07836325e-16]\n",
            " [-5.78739641e-02 -7.62702618e-01 -2.27035066e-01 -1.23415659e-03\n",
            "   9.41667331e-17]\n",
            " [-1.79300303e-01 -7.42143101e-01 -2.90556402e-01  2.70145656e-02\n",
            "   9.44674466e-17]\n",
            " [ 1.41855821e-01 -3.48046021e-01 -1.72480115e-01 -2.98117127e-02\n",
            "   1.49433226e-16]\n",
            " [ 1.38470435e+00 -4.29299614e-01  3.79879026e-02  1.80969207e-01\n",
            "   1.39865807e-16]\n",
            " [ 5.88720494e-01 -4.47782574e-01  4.81894909e-01  2.49084168e-01\n",
            "   2.12534932e-16]\n",
            " [ 8.01096218e-01  2.49332346e-01  3.96906615e-01  1.09505845e-01\n",
            "   1.20050868e-16]\n",
            " [ 1.21906673e+00  4.00361117e-01 -2.57809808e-01 -3.00017441e-02\n",
            "   6.96957424e-17]\n",
            " [ 8.26116488e-01 -4.59479342e-01 -6.23724674e-01 -1.46113392e-01\n",
            "   5.13519138e-17]\n",
            " [ 2.46790564e-01 -2.54121499e-01  2.07971440e-01  1.46394127e-01\n",
            "   2.15097634e-16]\n",
            " [ 1.74996446e-01 -7.19864878e-01 -3.98671387e-02 -2.65437991e-02\n",
            "   6.28309980e-17]\n",
            " [ 4.71698051e-01 -6.91127369e-01  8.36851868e-03  2.74374372e-01\n",
            "   1.01014924e-16]\n",
            " [ 8.91122157e-01 -2.97277232e-02 -2.77209178e-03  1.54843656e-01\n",
            "   2.19351455e-16]\n",
            " [ 2.37460132e-01 -4.47158551e-01 -2.22279024e-01 -1.27031853e-02\n",
            "   1.05716198e-16]\n",
            " [-6.92223289e-01 -1.07105317e+00 -7.64167910e-02 -4.08714874e-02\n",
            "   5.87685727e-17]\n",
            " [ 3.62359411e-01 -5.21147578e-01  3.79220177e-02  1.01127050e-01\n",
            "   1.47774052e-16]\n",
            " [ 3.32691726e-01 -2.02758231e-01  1.01988748e-01  2.39938095e-01\n",
            "   2.14249136e-16]\n",
            " [ 3.78478291e-01 -2.92118766e-01  9.50584796e-02  1.32205241e-01\n",
            "   1.85831905e-16]\n",
            " [ 6.44517418e-01 -1.69820338e-03 -2.10185430e-01  2.40145041e-02\n",
            "   1.85085522e-16]\n",
            " [-8.97166240e-01 -8.01960846e-01  2.93561744e-03 -2.31227336e-01\n",
            "   1.01386227e-16]\n",
            " [ 3.02838517e-01 -3.60919784e-01  2.46068757e-02  5.27211097e-02\n",
            "   1.44059483e-16]\n",
            " [ 2.52589805e+00  7.27511689e-02  7.81089308e-01  1.99652788e-02\n",
            "   8.40795148e-17]\n",
            " [ 1.41995041e+00 -5.67741423e-01  3.23800970e-01  1.39288786e-02\n",
            "   1.42466718e-16]\n",
            " [ 2.61567296e+00  3.46573756e-01 -1.27305173e-01 -6.60935563e-02\n",
            "   2.26487443e-16]\n",
            " [ 1.97270887e+00 -1.64626578e-01  1.26917975e-01  2.37844115e-01\n",
            "   1.77201742e-16]\n",
            " [ 2.34935471e+00 -1.03658313e-02  2.94247776e-01 -3.15045763e-03\n",
            "   2.18531144e-16]\n",
            " [ 3.39544434e+00  5.46059779e-01 -3.70590999e-01  1.15493683e-01\n",
            "   2.26312377e-16]\n",
            " [ 5.29823345e-01 -1.18395029e+00  6.03228859e-01  9.65421211e-02\n",
            "   5.90317136e-17]\n",
            " [ 2.93289734e+00  3.40435765e-01 -4.31938108e-01  2.62944287e-01\n",
            "   1.87222408e-16]\n",
            " [ 2.32821570e+00 -2.86304133e-01 -3.45386563e-01  8.44959122e-02\n",
            "   7.75562828e-17]\n",
            " [ 2.90632403e+00  8.59503110e-01  4.03764963e-01 -1.19851705e-01\n",
            "   2.24896565e-16]\n",
            " [ 1.65842728e+00  2.74445534e-01  2.35823882e-01 -1.25759056e-01\n",
            "   9.15886682e-17]\n",
            " [ 1.80769499e+00 -2.31361353e-01 -3.42306434e-02 -7.72629424e-02\n",
            "   1.53265226e-16]\n",
            " [ 2.16493454e+00  2.23850990e-01  2.07315922e-02 -1.65386634e-01\n",
            "   2.26362023e-16]\n",
            " [ 1.35401378e+00 -7.87018240e-01  3.09533149e-01 -1.41990693e-01\n",
            "   5.72229509e-17]\n",
            " [ 1.58898962e+00 -5.10803452e-01  6.49901168e-01 -3.37608577e-01\n",
            "   1.44813424e-16]\n",
            " [ 1.90100084e+00  1.66807476e-01  4.79175593e-01 -2.27504139e-01\n",
            "   9.02606220e-17]\n",
            " [ 1.94927139e+00  5.67164808e-02  5.04887814e-02  1.58140761e-01\n",
            "   2.18761695e-16]\n",
            " [ 3.47309595e+00  1.25826972e+00  1.10818339e-01  3.05449963e-01\n",
            "   6.34708427e-17]\n",
            " [ 3.79993155e+00  2.15073155e-01 -5.36837058e-01 -4.87560535e-02\n",
            "   9.72226374e-17]\n",
            " [ 1.31318935e+00 -8.28523968e-01 -3.26159716e-01  5.32789191e-02\n",
            "   3.42501861e-17]\n",
            " [ 2.42390609e+00  4.11760769e-01  2.04910725e-01 -1.90805888e-01\n",
            "   9.94075967e-17]\n",
            " [ 1.20236152e+00 -5.81107424e-01  5.42696623e-01 -6.54262032e-02\n",
            "   1.30156272e-16]\n",
            " [ 3.50131004e+00  4.29509498e-01 -5.96824204e-01  1.46662047e-01\n",
            "   1.54898794e-16]\n",
            " [ 1.39331911e+00 -2.26449831e-01 -6.56169694e-02 -1.62605795e-01\n",
            "   1.29464108e-16]\n",
            " [ 2.27014840e+00  3.84294536e-01  2.84874108e-01  5.60668440e-02\n",
            "   9.76393238e-17]\n",
            " [ 2.61000099e+00  5.76658094e-01 -2.19427328e-01  2.42916119e-01\n",
            "   7.94432615e-17]\n",
            " [ 1.26163138e+00 -1.88452564e-01  4.72959913e-02 -1.48416909e-01\n",
            "   1.40837229e-16]\n",
            " [ 1.29120547e+00 -9.68100353e-02  2.40986903e-01 -6.44756244e-03\n",
            "   2.19120904e-16]\n",
            " [ 2.12618745e+00 -2.03679370e-01  1.63263632e-01 -5.42762555e-02\n",
            "   1.34487431e-16]\n",
            " [ 2.38711285e+00  4.49863579e-01 -4.66720513e-01  2.37037959e-01\n",
            "   2.24897194e-16]\n",
            " [ 2.84352323e+00  3.42502007e-01 -5.22635122e-01  2.73213618e-02\n",
            "   1.55200750e-16]\n",
            " [ 3.21678806e+00  1.43677504e+00 -1.52778782e-01  2.51056252e-01\n",
            "   9.83480477e-18]\n",
            " [ 2.16199174e+00 -2.09083131e-01  2.16458620e-01 -1.30821307e-01\n",
            "   1.35159020e-16]\n",
            " [ 1.44716804e+00 -1.56593287e-01 -1.44423983e-01  1.94809821e-01\n",
            "   1.37303762e-16]\n",
            " [ 1.78727166e+00 -5.17112386e-01 -1.40009646e-01  5.13055742e-01\n",
            "   9.23145984e-17]\n",
            " [ 3.07502614e+00  6.72146304e-01 -3.78946810e-01 -3.10375480e-01\n",
            "   2.44188621e-16]\n",
            " [ 2.13762331e+00  2.22734730e-01  7.46714188e-01 -6.54871850e-02\n",
            "   1.15540316e-16]\n",
            " [ 1.90320571e+00  7.95579913e-02  1.73728089e-01  2.20625976e-01\n",
            "   4.86184789e-17]\n",
            " [ 1.16950001e+00 -1.42769543e-01  2.93774607e-01 -2.34464785e-02\n",
            "   2.18272178e-16]\n",
            " [ 2.10541364e+00  3.84078785e-01  7.41645024e-03 -2.13792575e-01\n",
            "   6.54873739e-17]\n",
            " [ 2.31190378e+00  2.15325462e-01  3.13882212e-01 -2.84240244e-01\n",
            "   6.69893203e-17]\n",
            " [ 1.92015611e+00  4.18738533e-01  8.28273850e-02 -5.11771666e-01\n",
            "   6.97474598e-17]\n",
            " [ 1.41995041e+00 -5.67741423e-01  3.23800970e-01  1.39288786e-02\n",
            "   1.42466718e-16]\n",
            " [ 2.55906676e+00  3.20333992e-01  2.88677471e-01 -6.29158157e-02\n",
            "   8.66370783e-17]\n",
            " [ 2.41336559e+00  3.62679494e-01  4.97654061e-01 -2.50113362e-01\n",
            "   1.00325680e-16]\n",
            " [ 1.94359358e+00  1.97395475e-01  1.59256578e-01 -4.32068312e-01\n",
            "   2.28139603e-16]\n",
            " [ 1.53470999e+00 -4.14922896e-01 -1.22346147e-01 -2.53230121e-01\n",
            "   5.00798104e-17]\n",
            " [ 1.76401386e+00  9.13762292e-02  1.25899716e-01 -1.39838331e-01\n",
            "   2.26512969e-16]\n",
            " [ 1.89449151e+00  1.97334740e-01  7.35980556e-01 -5.42373789e-02\n",
            "   1.49624462e-16]\n",
            " [ 1.39028272e+00 -2.49352076e-01  3.87867700e-01  1.52739923e-01\n",
            "   2.11293659e-16]]\n",
            "[9.19144136e-01 5.76948192e-02 1.79092623e-02 5.25178240e-03\n",
            " 5.11946227e-33]\n",
            "[[ 3.60834168e-01 -8.50560144e-02  8.56220425e-01  3.58042968e-01\n",
            "  -3.54400060e-02]\n",
            " [ 6.11152638e-01  7.15371331e-01 -1.51557565e-01 -5.40376063e-02\n",
            "   2.98071388e-01]\n",
            " [-6.31140513e-01  5.12309879e-01  1.03263473e-01  5.31949883e-01\n",
            "   2.13462450e-01]\n",
            " [-3.12974133e-01  2.65742218e-01  4.82963294e-01 -7.65450516e-01\n",
            "   1.10725924e-01]\n",
            " [ 0.00000000e+00 -3.84615385e-01 -3.88578059e-16  7.77156117e-16\n",
            "   9.23076923e-01]]\n"
          ]
        }
      ]
    },
    {
      "cell_type": "code",
      "source": [
        "# Question 10: Model Evaluation\n",
        "\n",
        "logreg_classifier = LogisticRegression()\n",
        "knn_classifier = KNeighborsClassifier()\n",
        "logreg_classifier.fit(X_train, y_train)\n",
        "knn_classifier.fit(X_train, y_train)\n",
        "logreg_accuracy  = accuracy_score(y_test, logreg_classifier.predict(X_test))\n",
        "knn_accuracy = accuracy_score(y_test, knn_classifier.predict(X_test))"
      ],
      "metadata": {
        "colab": {
          "base_uri": "https://localhost:8080/"
        },
        "id": "wNY0dRPca370",
        "outputId": "d8e966a8-8884-4572-d86b-44cb9d27e4b0"
      },
      "execution_count": null,
      "outputs": [
        {
          "output_type": "stream",
          "name": "stderr",
          "text": [
            "/usr/local/lib/python3.10/dist-packages/sklearn/linear_model/_logistic.py:458: ConvergenceWarning: lbfgs failed to converge (status=1):\n",
            "STOP: TOTAL NO. of ITERATIONS REACHED LIMIT.\n",
            "\n",
            "Increase the number of iterations (max_iter) or scale the data as shown in:\n",
            "    https://scikit-learn.org/stable/modules/preprocessing.html\n",
            "Please also refer to the documentation for alternative solver options:\n",
            "    https://scikit-learn.org/stable/modules/linear_model.html#logistic-regression\n",
            "  n_iter_i = _check_optimize_result(\n"
          ]
        }
      ]
    },
    {
      "cell_type": "code",
      "source": [
        "print(f'Mean Sepal Length: {mean_sepal_length}')\n",
        "print(f'Median Sepal Length: {median_sepal_length}')\n",
        "print(f'Standard Deviation Sepal Length: {std_sepal_length}')\n",
        "print(f'Pearson Correlation Coefficient: {pearson_corr}')\n",
        "print(f'Petal Width Min-Max Scaled Values:\\n{iris_data[\"sepal width (normalized)\"]}')\n",
        "print(f'T-Test p-value: {p_value}')\n",
        "print(f'Decision Tree Accuracy: {dt_accuracy}')\n",
        "print(f'SVM Classifier Accuracy: {svm_accuracy}')\n",
        "print(f'Principal Components Explained Variance Ratio: {explained_variance_ratio}')\n",
        "print(f'Eigen Vectors:\\n{eigen_vectors}')\n",
        "print(f'Logistic Regression Accuracy: {logreg_accuracy}')\n",
        "print(f'KNN Classifier Accuracy: {knn_accuracy}')"
      ],
      "metadata": {
        "colab": {
          "base_uri": "https://localhost:8080/"
        },
        "id": "4IPrC_6UfKMc",
        "outputId": "e236df73-0baf-42ed-c0a0-d8e1ff86e3a8"
      },
      "execution_count": null,
      "outputs": [
        {
          "output_type": "stream",
          "name": "stdout",
          "text": [
            "Mean Sepal Length: 5.843333333333334\n",
            "Median Sepal Length: 5.8\n",
            "Standard Deviation Sepal Length: 0.828066127977863\n",
            "Pearson Correlation Coefficient: 0.8717537758865831\n",
            "Petal Width Min-Max Scaled Values:\n",
            "0      0.625000\n",
            "1      0.416667\n",
            "2      0.500000\n",
            "3      0.458333\n",
            "4      0.666667\n",
            "         ...   \n",
            "145    0.416667\n",
            "146    0.208333\n",
            "147    0.416667\n",
            "148    0.583333\n",
            "149    0.416667\n",
            "Name: sepal width (normalized), Length: 150, dtype: float64\n",
            "T-Test p-value: 8.985235037487079e-18\n",
            "Decision Tree Accuracy: 1.0\n",
            "SVM Classifier Accuracy: 1.0\n",
            "Principal Components Explained Variance Ratio: [9.19144136e-01 5.76948192e-02 1.79092623e-02 5.25178240e-03\n",
            " 5.11946227e-33]\n",
            "Eigen Vectors:\n",
            "[[ 3.60834168e-01 -8.50560144e-02  8.56220425e-01  3.58042968e-01\n",
            "  -3.54400060e-02]\n",
            " [ 6.11152638e-01  7.15371331e-01 -1.51557565e-01 -5.40376063e-02\n",
            "   2.98071388e-01]\n",
            " [-6.31140513e-01  5.12309879e-01  1.03263473e-01  5.31949883e-01\n",
            "   2.13462450e-01]\n",
            " [-3.12974133e-01  2.65742218e-01  4.82963294e-01 -7.65450516e-01\n",
            "   1.10725924e-01]\n",
            " [ 0.00000000e+00 -3.84615385e-01 -3.88578059e-16  7.77156117e-16\n",
            "   9.23076923e-01]]\n",
            "Logistic Regression Accuracy: 1.0\n",
            "KNN Classifier Accuracy: 1.0\n"
          ]
        }
      ]
    },
    {
      "cell_type": "code",
      "source": [
        "# print(iris_data)"
      ],
      "metadata": {
        "id": "YaJh-Wc1Y8hI"
      },
      "execution_count": null,
      "outputs": []
    }
  ]
}